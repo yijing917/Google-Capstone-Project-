{
 "cells": [
  {
   "cell_type": "code",
   "execution_count": 1,
   "id": "ba0bf49b",
   "metadata": {
    "_cell_guid": "b1076dfc-b9ad-4769-8c92-a6c4dae69d19",
    "_uuid": "8f2839f25d086af736a60e9eeb907d3b93b6e0e5",
    "execution": {
     "iopub.execute_input": "2023-01-24T00:24:37.201345Z",
     "iopub.status.busy": "2023-01-24T00:24:37.197942Z",
     "iopub.status.idle": "2023-01-24T00:24:37.344395Z",
     "shell.execute_reply": "2023-01-24T00:24:37.342595Z"
    },
    "papermill": {
     "duration": 0.16334,
     "end_time": "2023-01-24T00:24:37.346703",
     "exception": true,
     "start_time": "2023-01-24T00:24:37.183363",
     "status": "failed"
    },
    "tags": []
   },
   "outputs": [
    {
     "ename": "ERROR",
     "evalue": "Error in parse(text = x, srcfile = src): <text>:5:8: unexpected symbol\n4: \n5: import numpy\n          ^\n",
     "output_type": "error",
     "traceback": [
      "Error in parse(text = x, srcfile = src): <text>:5:8: unexpected symbol\n4: \n5: import numpy\n          ^\nTraceback:\n"
     ]
    }
   ],
   "source": [
    "# This Python 3 environment comes with many helpful analytics libraries installed\n",
    "# It is defined by the kaggle/python Docker image: https://github.com/kaggle/docker-python\n",
    "# For example, here's several helpful packages to load\n",
    "\n",
    "import numpy as np # linear algebra\n",
    "import pandas as pd # data processing, CSV file I/O (e.g. pd.read_csv)\n",
    "\n",
    "# Input data files are available in the read-only \"../input/\" directory\n",
    "# For example, running this (by clicking run or pressing Shift+Enter) will list all files under the input directory\n",
    "\n",
    "import os\n",
    "for dirname, _, filenames in os.walk('/kaggle/input'):\n",
    "    for filename in filenames:\n",
    "        print(os.path.join(dirname, filename))\n",
    "\n",
    "# You can write up to 20GB to the current directory (/kaggle/working/) that gets preserved as output when you create a version using \"Save & Run All\" \n",
    "# You can also write temporary files to /kaggle/temp/, but they won't be saved outside of the current session"
   ]
  },
  {
   "cell_type": "markdown",
   "id": "52df5cc3",
   "metadata": {
    "papermill": {
     "duration": null,
     "end_time": null,
     "exception": null,
     "start_time": null,
     "status": "pending"
    },
    "tags": []
   },
   "source": [
    "****Company background ****\n",
    "\n",
    "Bellabeat is a high-tech company founded in 2013 that manufactures health-focused smart products which inspires woman around the world. Bellabeat empower women with knowledge about their own health and habits by collecting data on activity, sleep, stress and reproductive health. \n",
    "\n",
    "The case study is done in order to reveal more opportunities for Bellabeat’s growth by getting insights on how people using their smart devices. By doing this, the company could figure out the trend and make adjustment on marketing strategies to promote growth. \n"
   ]
  },
  {
   "cell_type": "markdown",
   "id": "85254370",
   "metadata": {
    "papermill": {
     "duration": null,
     "end_time": null,
     "exception": null,
     "start_time": null,
     "status": "pending"
    },
    "tags": []
   },
   "source": [
    "# **1.Ask Phase **\n",
    "\n",
    "\n",
    "**Business Task **\n",
    "\n",
    "To identify the trend of how consumers using smart devices and provide recommendations to the marketing team in order to apply the insight into latest marketing strategies. \n",
    "\n",
    "Who are the stakeholders: \n",
    "\n",
    "1)Urška Sršen: Bellabeat’s cofounder and Chief Creative Officer\n",
    "\n",
    "2)Sando Mur: Mathematician and Bellabeat’s cofounder; key member of the Bellabeat executive team\n",
    "\n",
    "3)Bellabeat marketing analytics team\n",
    "\n"
   ]
  },
  {
   "cell_type": "markdown",
   "id": "bfc0feb8",
   "metadata": {
    "papermill": {
     "duration": null,
     "end_time": null,
     "exception": null,
     "start_time": null,
     "status": "pending"
    },
    "tags": []
   },
   "source": []
  },
  {
   "cell_type": "markdown",
   "id": "1211b8da",
   "metadata": {
    "papermill": {
     "duration": null,
     "end_time": null,
     "exception": null,
     "start_time": null,
     "status": "pending"
    },
    "tags": []
   },
   "source": [
    "# **2.Prepare Phase**\n",
    "\n",
    "**2.1 Data used and information**\n",
    "\n",
    "The data that we used in the analysis process was a public dataset, Fitbit Fitness Tracker Data(CC0: Public Domain, dataset made available through Mobius). This Kaggle data set contains personal fitness tracker from thirty fitbit users. Thirty eligible Fitbit users consented to the submission of personal tracker data, including minute-level output for physical activity, heart rate, and sleep monitoring. It includes information about daily activity, steps, and heart rate that can be used to explore users’ habit. \n",
    "\n",
    "We will use R in order to explore, analyze and visualize the data to find out the trend of how consumers use their smart devices. We also use SQL queries on the data frame by loading sqldf() .\n",
    "\n"
   ]
  },
  {
   "cell_type": "markdown",
   "id": "dbd6a8a3",
   "metadata": {
    "papermill": {
     "duration": null,
     "end_time": null,
     "exception": null,
     "start_time": null,
     "status": "pending"
    },
    "tags": []
   },
   "source": [
    "**2.2 Install packages and import libraries**\n"
   ]
  },
  {
   "cell_type": "code",
   "execution_count": null,
   "id": "b4e12138",
   "metadata": {
    "papermill": {
     "duration": null,
     "end_time": null,
     "exception": null,
     "start_time": null,
     "status": "pending"
    },
    "tags": []
   },
   "outputs": [],
   "source": [
    "library(tidyverse)\n",
    "library(janitor)\n",
    "library(lubridate)\n",
    "library(sqldf)\n",
    "library(dplyr)\n",
    "library(tidyr)\n",
    "library(ggplot2)"
   ]
  },
  {
   "cell_type": "markdown",
   "id": "13249bd9",
   "metadata": {
    "papermill": {
     "duration": null,
     "end_time": null,
     "exception": null,
     "start_time": null,
     "status": "pending"
    },
    "tags": []
   },
   "source": [
    "**2.3 Import datas**\n",
    "\n",
    "Data would be focus on – daily calories, daily steps , daily sleep."
   ]
  },
  {
   "cell_type": "code",
   "execution_count": null,
   "id": "07184502",
   "metadata": {
    "papermill": {
     "duration": null,
     "end_time": null,
     "exception": null,
     "start_time": null,
     "status": "pending"
    },
    "tags": []
   },
   "outputs": [],
   "source": [
    "activity <- read_csv(file= \"../input/fitbit/Fitabase Data 4.12.16-5.12.16/dailyActivity_merged.csv\")\n",
    "daily_sleep <- read_csv(file= \"../input/fitbit/Fitabase Data 4.12.16-5.12.16/sleepDay_merged.csv\")\n",
    "hourly_steps <- read_csv(\"../input/fitbit/Fitabase Data 4.12.16-5.12.16/hourlySteps_merged.csv\")\n",
    "calories <- read.csv(\"../input/fitbit/Fitabase Data 4.12.16-5.12.16/hourlyCalories_merged.csv\")\n"
   ]
  },
  {
   "cell_type": "markdown",
   "id": "83c51e49",
   "metadata": {
    "papermill": {
     "duration": null,
     "end_time": null,
     "exception": null,
     "start_time": null,
     "status": "pending"
    },
    "tags": []
   },
   "source": []
  },
  {
   "cell_type": "markdown",
   "id": "d03dec97",
   "metadata": {
    "papermill": {
     "duration": null,
     "end_time": null,
     "exception": null,
     "start_time": null,
     "status": "pending"
    },
    "tags": []
   },
   "source": [
    "**Limitation **\n",
    "As we explored the dataset, there are some limitations which we would need more dataset/ analysis in order to provide more solid recommendations before deciding the marketing strategy. \n",
    "\n",
    "1)\tData was last updated 2016- the statistics might not be the same currently as the latest data are not updated and during the past 3 years of pandemic, some of the consumers might have changed their lifestyle ( ex: work from home) thus more data are needed in order to keep the analysis up-to -date. \n",
    "\n",
    "2)\tSmall sample size – based on the data, there is only 33 distinct users which is small to represent the whole population size. \n",
    "\n",
    "3)\tParticipants demographic characteristics not provided- this might limit how well we could explore the data as we do not have any information about the gender as well as occupations, which even the end of case study might not be helpful for building the marketing strategies. \n"
   ]
  },
  {
   "cell_type": "markdown",
   "id": "51d800b1",
   "metadata": {
    "papermill": {
     "duration": null,
     "end_time": null,
     "exception": null,
     "start_time": null,
     "status": "pending"
    },
    "tags": []
   },
   "source": [
    "**2.4 Preview data and columns**\n",
    "\n",
    "We will preview selected data frames and summary of each. "
   ]
  },
  {
   "cell_type": "code",
   "execution_count": null,
   "id": "4e8c341f",
   "metadata": {
    "papermill": {
     "duration": null,
     "end_time": null,
     "exception": null,
     "start_time": null,
     "status": "pending"
    },
    "tags": []
   },
   "outputs": [],
   "source": [
    "head(activity)\n",
    "head(daily_sleep)\n",
    "head(hourly_steps)\n",
    "head(calories)\n"
   ]
  },
  {
   "cell_type": "markdown",
   "id": "d7eea43d",
   "metadata": {
    "papermill": {
     "duration": null,
     "end_time": null,
     "exception": null,
     "start_time": null,
     "status": "pending"
    },
    "tags": []
   },
   "source": [
    "# **3.Cleaning Data Process**\n",
    "\n",
    "We will start process the data and clean some of the data to ease the process of analysis. The cleaning processes are dropping NA values, drop duplicates, naming some of the variables and standardize the format.\n",
    "\n",
    "**3.1 Verify number of unique ID **\n"
   ]
  },
  {
   "cell_type": "code",
   "execution_count": null,
   "id": "70e226f6",
   "metadata": {
    "execution": {
     "iopub.execute_input": "2023-01-23T22:13:45.249611Z",
     "iopub.status.busy": "2023-01-23T22:13:45.247823Z",
     "iopub.status.idle": "2023-01-23T22:13:45.305213Z"
    },
    "papermill": {
     "duration": null,
     "end_time": null,
     "exception": null,
     "start_time": null,
     "status": "pending"
    },
    "tags": []
   },
   "outputs": [],
   "source": [
    "n_distinct(activity$Id)\n",
    "n_distinct(daily_sleep$Id)\n",
    "n_distinct(hourly_steps$Id)\n",
    "n_distinct(calories$Id)"
   ]
  },
  {
   "cell_type": "markdown",
   "id": "049edcf7",
   "metadata": {
    "papermill": {
     "duration": null,
     "end_time": null,
     "exception": null,
     "start_time": null,
     "status": "pending"
    },
    "tags": []
   },
   "source": []
  },
  {
   "cell_type": "markdown",
   "id": "4cee19cc",
   "metadata": {
    "papermill": {
     "duration": null,
     "end_time": null,
     "exception": null,
     "start_time": null,
     "status": "pending"
    },
    "tags": []
   },
   "source": [
    "After checking the count of user, then we will check if there is any duplicated rows in the tables. \n",
    "\n",
    "**3.2 Identify duplicated rows** \n",
    "\n"
   ]
  },
  {
   "cell_type": "code",
   "execution_count": null,
   "id": "7ff9ba5d",
   "metadata": {
    "execution": {
     "iopub.execute_input": "2023-01-23T22:13:45.308952Z",
     "iopub.status.busy": "2023-01-23T22:13:45.307598Z",
     "iopub.status.idle": "2023-01-23T22:13:45.832904Z"
    },
    "papermill": {
     "duration": null,
     "end_time": null,
     "exception": null,
     "start_time": null,
     "status": "pending"
    },
    "tags": []
   },
   "outputs": [],
   "source": [
    "sum(duplicated(activity))\n",
    "sum(duplicated(daily_sleep))\n",
    "sum(duplicated(hourly_steps))\n",
    "sum(duplicated(calories))"
   ]
  },
  {
   "cell_type": "markdown",
   "id": "4eef505c",
   "metadata": {
    "papermill": {
     "duration": null,
     "end_time": null,
     "exception": null,
     "start_time": null,
     "status": "pending"
    },
    "tags": []
   },
   "source": [
    "As we can see from the result, table \" daily_sleep\" contains 3 duplicated rows. We will proceed to remove the duplicated rows and check after cleaning it. \n",
    "\n",
    "**3.3 Remove Duplicates**\n"
   ]
  },
  {
   "cell_type": "code",
   "execution_count": null,
   "id": "caff1cee",
   "metadata": {
    "execution": {
     "iopub.execute_input": "2023-01-23T22:13:45.836853Z",
     "iopub.status.busy": "2023-01-23T22:13:45.835400Z",
     "iopub.status.idle": "2023-01-23T22:13:45.852917Z"
    },
    "papermill": {
     "duration": null,
     "end_time": null,
     "exception": null,
     "start_time": null,
     "status": "pending"
    },
    "tags": []
   },
   "outputs": [],
   "source": [
    "daily_sleep <- daily_sleep %>% \n",
    "distinct() %>% \n",
    "drop_na()"
   ]
  },
  {
   "cell_type": "markdown",
   "id": "7aafe754",
   "metadata": {
    "papermill": {
     "duration": null,
     "end_time": null,
     "exception": null,
     "start_time": null,
     "status": "pending"
    },
    "tags": []
   },
   "source": [
    "We will verify the duplicated rows is being removed. "
   ]
  },
  {
   "cell_type": "code",
   "execution_count": null,
   "id": "41ad5618",
   "metadata": {
    "execution": {
     "iopub.execute_input": "2023-01-23T22:13:45.857120Z",
     "iopub.status.busy": "2023-01-23T22:13:45.855583Z",
     "iopub.status.idle": "2023-01-23T22:13:45.878817Z"
    },
    "papermill": {
     "duration": null,
     "end_time": null,
     "exception": null,
     "start_time": null,
     "status": "pending"
    },
    "tags": []
   },
   "outputs": [],
   "source": [
    "sum(duplicated(daily_sleep))"
   ]
  },
  {
   "cell_type": "markdown",
   "id": "bf6f0312",
   "metadata": {
    "papermill": {
     "duration": null,
     "end_time": null,
     "exception": null,
     "start_time": null,
     "status": "pending"
    },
    "tags": []
   },
   "source": [
    "**3.4 Clean and rename the columns** \n",
    "\n",
    "We are going to rename the columns to standardize the column name and ensure the analysis process is more efficient without confusion. We will change all the column names to lower case. "
   ]
  },
  {
   "cell_type": "code",
   "execution_count": null,
   "id": "daa036c8",
   "metadata": {
    "execution": {
     "iopub.execute_input": "2023-01-23T22:13:45.882334Z",
     "iopub.status.busy": "2023-01-23T22:13:45.881092Z",
     "iopub.status.idle": "2023-01-23T22:13:46.305295Z"
    },
    "papermill": {
     "duration": null,
     "end_time": null,
     "exception": null,
     "start_time": null,
     "status": "pending"
    },
    "tags": []
   },
   "outputs": [],
   "source": [
    "clean_names(activity)\n",
    "activity <- rename_with(activity, tolower)\n",
    "\n",
    "clean_names(daily_sleep)\n",
    "daily_sleep <- rename_with(daily_sleep, tolower)\n",
    "\n",
    "clean_names(hourly_steps)\n",
    "hourly_steps <- rename_with(hourly_steps, tolower)\n",
    "\n",
    "clean_names(calories) \n",
    "calories <- rename_with(calories, tolower)\n"
   ]
  },
  {
   "cell_type": "markdown",
   "id": "aa84b31f",
   "metadata": {
    "papermill": {
     "duration": null,
     "end_time": null,
     "exception": null,
     "start_time": null,
     "status": "pending"
    },
    "tags": []
   },
   "source": [
    "**3.5 Consistency of data and time columns before merging **\n",
    "\n",
    "Before we merge the \"activity\" and \"sleep\" table, we would like to ensure the consistency in terms of format for date & time column. \n"
   ]
  },
  {
   "cell_type": "code",
   "execution_count": null,
   "id": "e3786be0",
   "metadata": {
    "execution": {
     "iopub.execute_input": "2023-01-23T22:13:46.309170Z",
     "iopub.status.busy": "2023-01-23T22:13:46.307666Z",
     "iopub.status.idle": "2023-01-23T22:13:46.390965Z"
    },
    "papermill": {
     "duration": null,
     "end_time": null,
     "exception": null,
     "start_time": null,
     "status": "pending"
    },
    "tags": []
   },
   "outputs": [],
   "source": [
    "activity <- activity %>% \n",
    "rename(date=activitydate)%>%\n",
    "mutate(date=as_date(date,format = \"%m/%d/%Y\"))\n",
    "\n",
    "daily_sleep <- daily_sleep %>%\n",
    "rename(date = sleepday) %>%\n",
    "mutate(date = as_date(date,format =\"%m/%d/%Y %I:%M:%S %p\" , tz=Sys.timezone()))\n",
    "\n",
    "head(activity)\n",
    "head(daily_sleep)"
   ]
  },
  {
   "cell_type": "markdown",
   "id": "352cb633",
   "metadata": {
    "papermill": {
     "duration": null,
     "end_time": null,
     "exception": null,
     "start_time": null,
     "status": "pending"
    },
    "tags": []
   },
   "source": [
    "**3.5 Convert data_string to date_time ***\n",
    "\n",
    "We will convert data string into date_time for both \"hourly_step\" and \"calories\".\n",
    "\n"
   ]
  },
  {
   "cell_type": "code",
   "execution_count": null,
   "id": "ffead502",
   "metadata": {
    "papermill": {
     "duration": null,
     "end_time": null,
     "exception": null,
     "start_time": null,
     "status": "pending"
    },
    "tags": []
   },
   "outputs": [],
   "source": [
    "hourly_steps<- hourly_steps %>% \n",
    "rename(date_time = activityhour) %>% \n",
    "mutate(date_time = as.POSIXct(date_time,format =\"%m/%d/%Y %I:%M:%S %p\" , tz=Sys.timezone()))\n",
    "  \n",
    "calories<- calories %>% \n",
    "rename(date_time = activityhour) %>% \n",
    "mutate(date_time = as.POSIXct(date_time,format =\"%m/%d/%Y %I:%M:%S %p\" , tz=Sys.timezone()))\n",
    "\n",
    "head(hourly_steps)\n",
    "head(calories)"
   ]
  },
  {
   "cell_type": "markdown",
   "id": "ed8c3e20",
   "metadata": {
    "papermill": {
     "duration": null,
     "end_time": null,
     "exception": null,
     "start_time": null,
     "status": "pending"
    },
    "tags": []
   },
   "source": [
    "**3.7 Merging dataset **\n",
    "\n",
    "We will merge both dataset (\"daily_sleep\" and \"activity\") in order to identify if there is any correlation between these variables. \n",
    "\n"
   ]
  },
  {
   "cell_type": "code",
   "execution_count": null,
   "id": "8930ddf7",
   "metadata": {
    "execution": {
     "iopub.execute_input": "2023-01-23T22:26:02.100450Z",
     "iopub.status.busy": "2023-01-23T22:26:02.098102Z",
     "iopub.status.idle": "2023-01-23T22:26:02.183326Z"
    },
    "papermill": {
     "duration": null,
     "end_time": null,
     "exception": null,
     "start_time": null,
     "status": "pending"
    },
    "tags": []
   },
   "outputs": [],
   "source": [
    "dailyactivity_sleep<- merge(activity,daily_sleep, by=c(\"id\",\"date\"))\n",
    "glimpse(dailyactivity_sleep)"
   ]
  },
  {
   "cell_type": "markdown",
   "id": "da4bcadf",
   "metadata": {
    "papermill": {
     "duration": null,
     "end_time": null,
     "exception": null,
     "start_time": null,
     "status": "pending"
    },
    "tags": []
   },
   "source": []
  },
  {
   "cell_type": "markdown",
   "id": "f9ba41cb",
   "metadata": {
    "papermill": {
     "duration": null,
     "end_time": null,
     "exception": null,
     "start_time": null,
     "status": "pending"
    },
    "tags": []
   },
   "source": [
    "3.8 Summary of all data \n",
    "\n",
    "We will take a look on the summaries of all the data. "
   ]
  },
  {
   "cell_type": "code",
   "execution_count": null,
   "id": "8afc9fc1",
   "metadata": {
    "execution": {
     "iopub.execute_input": "2023-01-23T22:26:05.887793Z",
     "iopub.status.busy": "2023-01-23T22:26:05.884680Z",
     "iopub.status.idle": "2023-01-23T22:26:05.923884Z"
    },
    "papermill": {
     "duration": null,
     "end_time": null,
     "exception": null,
     "start_time": null,
     "status": "pending"
    },
    "tags": []
   },
   "outputs": [],
   "source": [
    "summary(dailyactivity_sleep)\n",
    "\n",
    "\n"
   ]
  },
  {
   "cell_type": "code",
   "execution_count": null,
   "id": "810bee5d",
   "metadata": {
    "papermill": {
     "duration": null,
     "end_time": null,
     "exception": null,
     "start_time": null,
     "status": "pending"
    },
    "tags": []
   },
   "outputs": [],
   "source": [
    "summary(hourly_steps)\n",
    "summary(calories)"
   ]
  },
  {
   "cell_type": "markdown",
   "id": "76f519e4",
   "metadata": {
    "papermill": {
     "duration": null,
     "end_time": null,
     "exception": null,
     "start_time": null,
     "status": "pending"
    },
    "tags": []
   },
   "source": [
    "# **4.Analyse Phase **\n",
    "\n",
    "We will analyse the user trend of fitbits and identify what are the keys could be used as the marketing strategy for Bellabeat. \n",
    "\n",
    "These are some of the questions we could brainstorm in order to identify the trend: \n",
    "* How often the users wear smart devices? Group the users on usage frequency?\n",
    "* What are the lifestyles of the users? Active or moderate or sedentary? ( since the demographic data are not provided, we could group the users by average steps) \n",
    "* Most active hours ? the calories graph – to identify the active hours of users \n",
    "* Correlation between steps/calories/ sleeptime? \n",
    "\n",
    "\n",
    "***4.1 Identify how often Fitbit users use their smart devices *******\n",
    "\n",
    "We would like to identify how often users use their smart device to track their daily activities by classifying them into 3 categories: \n",
    "1. Uses device between 21-31 days - frequent \n",
    "2. Uses device between 11-20 days - on and off \n",
    "3. Uses device between 1-10 days - low \n"
   ]
  },
  {
   "cell_type": "code",
   "execution_count": null,
   "id": "7d93bc29",
   "metadata": {
    "papermill": {
     "duration": null,
     "end_time": null,
     "exception": null,
     "start_time": null,
     "status": "pending"
    },
    "tags": []
   },
   "outputs": [],
   "source": [
    "daily_use <- dailyactivity_sleep %>%\n",
    "group_by(id) %>%\n",
    "summarize(days_used=sum(n())) %>%\n",
    "mutate(user_stage=case_when (\n",
    "days_used >= 1 & days_used <= 10  ~ \"low\",\n",
    "days_used>= 11 & days_used <= 20  ~ \"on and off\",\n",
    "days_used>= 21 & days_used <= 31 ~ \"frequent\"))\n",
    "\n",
    "head(daily_use)"
   ]
  },
  {
   "cell_type": "code",
   "execution_count": null,
   "id": "716fc994",
   "metadata": {
    "papermill": {
     "duration": null,
     "end_time": null,
     "exception": null,
     "start_time": null,
     "status": "pending"
    },
    "tags": []
   },
   "outputs": [],
   "source": [
    "daily_count <- daily_use %>%\n",
    "group_by(user_stage) %>% \n",
    "summarize(user=n())\n",
    "\n",
    "head(daily_count)\n"
   ]
  },
  {
   "cell_type": "markdown",
   "id": "379b49fd",
   "metadata": {
    "papermill": {
     "duration": null,
     "end_time": null,
     "exception": null,
     "start_time": null,
     "status": "pending"
    },
    "tags": []
   },
   "source": [
    "Then we will summarize the daily_use data into percentage. "
   ]
  },
  {
   "cell_type": "code",
   "execution_count": null,
   "id": "b69dd30d",
   "metadata": {
    "papermill": {
     "duration": null,
     "end_time": null,
     "exception": null,
     "start_time": null,
     "status": "pending"
    },
    "tags": []
   },
   "outputs": [],
   "source": [
    "daily_use_percentage <- daily_use %>% \n",
    "group_by(user_stage) %>% \n",
    "summarize(total = n()) %>%\n",
    "mutate(totals =sum(total))%>%\n",
    "group_by(user_stage) %>%\n",
    "summarize(total_percentage= total/totals*100)\n",
    "\n",
    "\n",
    "head(daily_use_percentage)"
   ]
  },
  {
   "cell_type": "markdown",
   "id": "b97520ea",
   "metadata": {
    "papermill": {
     "duration": null,
     "end_time": null,
     "exception": null,
     "start_time": null,
     "status": "pending"
    },
    "tags": []
   },
   "source": []
  },
  {
   "cell_type": "code",
   "execution_count": null,
   "id": "6f416497",
   "metadata": {
    "execution": {
     "iopub.execute_input": "2023-01-23T23:17:02.812155Z",
     "iopub.status.busy": "2023-01-23T23:17:02.809469Z",
     "iopub.status.idle": "2023-01-23T23:17:03.159383Z"
    },
    "papermill": {
     "duration": null,
     "end_time": null,
     "exception": null,
     "start_time": null,
     "status": "pending"
    },
    "tags": []
   },
   "outputs": [],
   "source": [
    "daily_use_percentage %>%\n",
    "ggplot(aes(x=user_stage,y=total_percentage,fill=user_stage))+geom_bar(stat=\"identity\")+labs(title=\"Usage of smart device\")"
   ]
  },
  {
   "cell_type": "markdown",
   "id": "42bf82ff",
   "metadata": {
    "papermill": {
     "duration": null,
     "end_time": null,
     "exception": null,
     "start_time": null,
     "status": "pending"
    },
    "tags": []
   },
   "source": [
    "We can conclude from the graph above that\n",
    "\n",
    "50% of the users are using their smart devices in between 21-31 days which is 12 users in the data. \n",
    "37.5% of the users are using the devices in between 1-10 days which is 9 users in the data. \n",
    "\n",
    "More data are needed in order to determine any reason that cause the difference in terms of usage so that we could help to improve the usage rate of smart devices for our users as well.  \n"
   ]
  },
  {
   "cell_type": "markdown",
   "id": "0961e0ce",
   "metadata": {
    "papermill": {
     "duration": null,
     "end_time": null,
     "exception": null,
     "start_time": null,
     "status": "pending"
    },
    "tags": []
   },
   "source": []
  },
  {
   "cell_type": "markdown",
   "id": "30c6b65d",
   "metadata": {
    "papermill": {
     "duration": null,
     "end_time": null,
     "exception": null,
     "start_time": null,
     "status": "pending"
    },
    "tags": []
   },
   "source": [
    "****4.2 Active hours of users based on calories and steps ******\n",
    "\n"
   ]
  },
  {
   "cell_type": "code",
   "execution_count": null,
   "id": "43bea090",
   "metadata": {
    "papermill": {
     "duration": null,
     "end_time": null,
     "exception": null,
     "start_time": null,
     "status": "pending"
    },
    "tags": []
   },
   "outputs": [],
   "source": [
    "calories <- calories %>%\n",
    "  separate(date_time, into = c(\"date\", \"time\"), sep= \" \") %>%\n",
    "  mutate(date = ymd(date)) "
   ]
  },
  {
   "cell_type": "code",
   "execution_count": null,
   "id": "05322269",
   "metadata": {
    "execution": {
     "iopub.execute_input": "2023-01-23T22:13:52.976083Z",
     "iopub.status.busy": "2023-01-23T22:13:52.974473Z",
     "iopub.status.idle": "2023-01-23T22:13:53.386064Z"
    },
    "papermill": {
     "duration": null,
     "end_time": null,
     "exception": null,
     "start_time": null,
     "status": "pending"
    },
    "tags": []
   },
   "outputs": [],
   "source": [
    "calories %>%\n",
    "group_by(time) %>% \n",
    "summarize(average_cal = mean(calories))%>%\n",
    "ggplot()+\n",
    "geom_col(mapping=aes(x=time,y=average_cal,fill=average_cal)) +\n",
    "labs(title= \"Hourly calories throughout the day\",x=\"\",y=\"\")+\n",
    "scale_fill_gradient(low=\"green\",high=\"red\")+\n",
    "theme(axis.text.x= element_text(angle= 90))"
   ]
  },
  {
   "cell_type": "code",
   "execution_count": null,
   "id": "dc385ea1",
   "metadata": {
    "execution": {
     "iopub.execute_input": "2023-01-23T22:14:32.483379Z",
     "iopub.status.busy": "2023-01-23T22:14:32.480802Z",
     "iopub.status.idle": "2023-01-23T22:14:33.047793Z"
    },
    "papermill": {
     "duration": null,
     "end_time": null,
     "exception": null,
     "start_time": null,
     "status": "pending"
    },
    "tags": []
   },
   "outputs": [],
   "source": [
    "hourly_steps <- hourly_steps %>%\n",
    "  separate(date_time, into = c(\"date\", \"time\"), sep= \" \") %>%\n",
    "  mutate(date = ymd(date)) "
   ]
  },
  {
   "cell_type": "code",
   "execution_count": null,
   "id": "8c361737",
   "metadata": {
    "execution": {
     "iopub.execute_input": "2023-01-23T22:14:43.690835Z",
     "iopub.status.busy": "2023-01-23T22:14:43.688629Z",
     "iopub.status.idle": "2023-01-23T22:14:43.734594Z"
    },
    "papermill": {
     "duration": null,
     "end_time": null,
     "exception": null,
     "start_time": null,
     "status": "pending"
    },
    "tags": []
   },
   "outputs": [],
   "source": [
    "head(hourly_steps)"
   ]
  },
  {
   "cell_type": "code",
   "execution_count": null,
   "id": "d0e07089",
   "metadata": {
    "execution": {
     "iopub.execute_input": "2023-01-23T22:15:49.033965Z",
     "iopub.status.busy": "2023-01-23T22:15:49.031419Z",
     "iopub.status.idle": "2023-01-23T22:15:49.503734Z"
    },
    "papermill": {
     "duration": null,
     "end_time": null,
     "exception": null,
     "start_time": null,
     "status": "pending"
    },
    "tags": []
   },
   "outputs": [],
   "source": [
    "hourly_steps %>%\n",
    "group_by(time) %>% \n",
    "summarize(average_steps = mean(steptotal))%>%\n",
    "ggplot()+\n",
    "geom_col(mapping=aes(x=time,y=average_steps,fill=average_steps)) +\n",
    "labs(title= \"Hourly steps throughout the day\",x=\"\",y=\"\")+\n",
    "scale_fill_gradient(low=\"green\",high=\"red\")+\n",
    "theme(axis.text.x= element_text(angle= 90))"
   ]
  },
  {
   "cell_type": "markdown",
   "id": "d28e15f7",
   "metadata": {
    "papermill": {
     "duration": null,
     "end_time": null,
     "exception": null,
     "start_time": null,
     "status": "pending"
    },
    "tags": []
   },
   "source": [
    "In the graph above, we can determine that: \n",
    "\n",
    "* the most active time for users is 12pm-2pm and 5pm-7pm. \n",
    "* For 12pm-2pm could be during lunchtime whereas for 5pm-7pm could be dinner time or workout after work.  "
   ]
  },
  {
   "cell_type": "markdown",
   "id": "ef5945ca",
   "metadata": {
    "papermill": {
     "duration": null,
     "end_time": null,
     "exception": null,
     "start_time": null,
     "status": "pending"
    },
    "tags": []
   },
   "source": []
  },
  {
   "cell_type": "markdown",
   "id": "afccd0f3",
   "metadata": {
    "papermill": {
     "duration": null,
     "end_time": null,
     "exception": null,
     "start_time": null,
     "status": "pending"
    },
    "tags": []
   },
   "source": [
    "****4.3 Average sleep hours ****\n",
    "\n",
    "We are going to analyse the average sleep hours per users in order to identify the trend since we do not have exact demographic details of users.  \n",
    "\n",
    "\n"
   ]
  },
  {
   "cell_type": "code",
   "execution_count": null,
   "id": "1931cb7e",
   "metadata": {
    "execution": {
     "iopub.execute_input": "2023-01-23T22:45:12.267571Z",
     "iopub.status.busy": "2023-01-23T22:45:12.265895Z",
     "iopub.status.idle": "2023-01-23T22:45:12.314457Z"
    },
    "papermill": {
     "duration": null,
     "end_time": null,
     "exception": null,
     "start_time": null,
     "status": "pending"
    },
    "tags": []
   },
   "outputs": [],
   "source": [
    "daily_sleep <- dailyactivity_sleep %>%\n",
    "group_by(id) %>%\n",
    "summarize(average_sleep_hour=mean(totalminutesasleep)/60)\n",
    "\n",
    "head(daily_sleep)"
   ]
  },
  {
   "cell_type": "code",
   "execution_count": null,
   "id": "ab05ba79",
   "metadata": {
    "execution": {
     "iopub.execute_input": "2023-01-23T22:49:50.530384Z",
     "iopub.status.busy": "2023-01-23T22:49:50.528814Z",
     "iopub.status.idle": "2023-01-23T22:49:50.767940Z"
    },
    "papermill": {
     "duration": null,
     "end_time": null,
     "exception": null,
     "start_time": null,
     "status": "pending"
    },
    "tags": []
   },
   "outputs": [],
   "source": [
    "daily_sleep %>%\n",
    "ggplot()+geom_point(mapping=aes(x=id,y=average_sleep_hour))+labs(title=\"Average sleep for users\")"
   ]
  },
  {
   "cell_type": "markdown",
   "id": "cbbe2a78",
   "metadata": {
    "papermill": {
     "duration": null,
     "end_time": null,
     "exception": null,
     "start_time": null,
     "status": "pending"
    },
    "tags": []
   },
   "source": [
    "Findings: \n",
    "\n",
    "The average hours of sleep is between 6-8 hours for users in the data. \n",
    "\n",
    "\n",
    "****4.4 Correlations** **\n",
    "\n",
    "We would find out is there is any correlation between these variables: \n",
    "* Daily steps vs calories \n",
    "* Daily steps vs daily sleep"
   ]
  },
  {
   "cell_type": "code",
   "execution_count": null,
   "id": "905a5cc3",
   "metadata": {
    "execution": {
     "iopub.execute_input": "2023-01-23T23:07:23.874593Z",
     "iopub.status.busy": "2023-01-23T23:07:23.872913Z",
     "iopub.status.idle": "2023-01-23T23:07:24.283164Z"
    },
    "papermill": {
     "duration": null,
     "end_time": null,
     "exception": null,
     "start_time": null,
     "status": "pending"
    },
    "tags": []
   },
   "outputs": [],
   "source": [
    "ggplot(dailyactivity_sleep,aes(x=totalsteps,y=totalminutesasleep ))+geom_jitter()+geom_smooth(color=\"blue\")+labs(title=\"Daily steps vs total minutes asleep\",x=\"Daily steps\",y=\"Minute asleep\")+theme(plot.title=element_text(size=20))"
   ]
  },
  {
   "cell_type": "code",
   "execution_count": null,
   "id": "0aa0af5d",
   "metadata": {
    "execution": {
     "iopub.execute_input": "2023-01-23T23:09:05.815608Z",
     "iopub.status.busy": "2023-01-23T23:09:05.813696Z",
     "iopub.status.idle": "2023-01-23T23:09:06.144681Z"
    },
    "papermill": {
     "duration": null,
     "end_time": null,
     "exception": null,
     "start_time": null,
     "status": "pending"
    },
    "tags": []
   },
   "outputs": [],
   "source": [
    "ggplot(dailyactivity_sleep,aes(x=totalsteps,y=calories ))+geom_jitter()+geom_smooth(color=\"green\")+labs(title=\"Daily steps vs calories burned\",x=\"Daily steps\",y=\"Calories burned\")+theme(plot.title=element_text(size=20))"
   ]
  },
  {
   "cell_type": "markdown",
   "id": "dc162921",
   "metadata": {
    "papermill": {
     "duration": null,
     "end_time": null,
     "exception": null,
     "start_time": null,
     "status": "pending"
    },
    "tags": []
   },
   "source": []
  },
  {
   "cell_type": "markdown",
   "id": "9682f6a4",
   "metadata": {
    "papermill": {
     "duration": null,
     "end_time": null,
     "exception": null,
     "start_time": null,
     "status": "pending"
    },
    "tags": []
   },
   "source": [
    "According our plots: \n",
    "\n",
    "* There is positive correlation between daily steps and calories as more steps burn more calories. \n",
    "* There is no correlation between daily steps and amount of sleep time. "
   ]
  },
  {
   "cell_type": "markdown",
   "id": "7ec28380",
   "metadata": {
    "papermill": {
     "duration": null,
     "end_time": null,
     "exception": null,
     "start_time": null,
     "status": "pending"
    },
    "tags": []
   },
   "source": []
  },
  {
   "cell_type": "markdown",
   "id": "506b68e4",
   "metadata": {
    "papermill": {
     "duration": null,
     "end_time": null,
     "exception": null,
     "start_time": null,
     "status": "pending"
    },
    "tags": []
   },
   "source": [
    "**4.5 User activeness based on calories **\n",
    "\n",
    "We would like to identify the user activeness in this group of users by classifying them into 3 groups. \n",
    "\n",
    "* mean calories < 2000 - sedentary\n",
    "* mean calories between 2000 and 2999 -active \n",
    "* mean calories >= 3000 - very active"
   ]
  },
  {
   "cell_type": "code",
   "execution_count": null,
   "id": "db7132a3",
   "metadata": {
    "execution": {
     "iopub.execute_input": "2023-01-23T23:22:48.755241Z",
     "iopub.status.busy": "2023-01-23T23:22:48.753687Z",
     "iopub.status.idle": "2023-01-23T23:22:48.795879Z"
    },
    "papermill": {
     "duration": null,
     "end_time": null,
     "exception": null,
     "start_time": null,
     "status": "pending"
    },
    "tags": []
   },
   "outputs": [],
   "source": [
    "user_activeness <- dailyactivity_sleep %>% \n",
    "group_by(id)%>%\n",
    "summarize(mean_calories = mean(calories),mean_steps=mean(totalsteps))\n",
    "\n",
    "head(user_activeness)\n"
   ]
  },
  {
   "cell_type": "code",
   "execution_count": null,
   "id": "660852d0",
   "metadata": {
    "execution": {
     "iopub.execute_input": "2023-01-23T23:38:53.617640Z",
     "iopub.status.busy": "2023-01-23T23:38:53.614991Z",
     "iopub.status.idle": "2023-01-23T23:38:53.658898Z"
    },
    "papermill": {
     "duration": null,
     "end_time": null,
     "exception": null,
     "start_time": null,
     "status": "pending"
    },
    "tags": []
   },
   "outputs": [],
   "source": [
    "user_type <- user_activeness %>% \n",
    "mutate(user_type= case_when( mean_calories >= 3000 ~ \"very active\",\n",
    "                            mean_calories >=2000  & mean_calories <2999 ~ \"active\",\n",
    "                            mean_calories < 2000 ~ \"sedentary\" ))\n",
    "\n",
    "head(user_type)\n",
    "summary(user_type)"
   ]
  },
  {
   "cell_type": "code",
   "execution_count": null,
   "id": "1e375710",
   "metadata": {
    "execution": {
     "iopub.execute_input": "2023-01-23T23:41:48.430551Z",
     "iopub.status.busy": "2023-01-23T23:41:48.428563Z",
     "iopub.status.idle": "2023-01-23T23:41:48.478417Z"
    },
    "papermill": {
     "duration": null,
     "end_time": null,
     "exception": null,
     "start_time": null,
     "status": "pending"
    },
    "tags": []
   },
   "outputs": [],
   "source": [
    "user_type_percent <- user_type %>%\n",
    "group_by(user_type) %>%\n",
    "summarise(total=n()) %>%\n",
    "mutate(totals=sum(total))%>%\n",
    "group_by(user_type)%>%\n",
    "summarize(total_percent= total/totals) %>%\n",
    "mutate ( perc= scales::percent(total_percent))\n",
    "\n",
    "user_type_percent$user_type <- factor(user_type_percent$user_type,levels =c(\"very active\",\"active\",\"sedentary\"))\n",
    "\n",
    "head(user_type_percent)"
   ]
  },
  {
   "cell_type": "code",
   "execution_count": null,
   "id": "3634148f",
   "metadata": {
    "execution": {
     "iopub.execute_input": "2023-01-23T23:53:10.088367Z",
     "iopub.status.busy": "2023-01-23T23:53:10.086426Z",
     "iopub.status.idle": "2023-01-23T23:53:10.559340Z"
    },
    "papermill": {
     "duration": null,
     "end_time": null,
     "exception": null,
     "start_time": null,
     "status": "pending"
    },
    "tags": []
   },
   "outputs": [],
   "source": [
    "user_type_percent %>%\n",
    "ggplot(aes(x=\"\",y=total_percent,fill=user_type))+\n",
    "geom_bar(stat=\"identity\",width=1)+\n",
    "coord_polar(\"y\",start=0)+\n",
    "theme_minimal()+\n",
    "theme(axis.title.x= element_blank(),\n",
    "axis.title.y = element_blank(),\n",
    "panel.border = element_blank(), \n",
    "panel.grid = element_blank(), \n",
    "axis.ticks = element_blank(),\n",
    "axis.text.x = element_blank(),\n",
    "plot.title = element_text(hjust = 0.5, size=14, face = \"bold\"))+\n",
    "geom_text(aes(label=perc),position= position_stack(vjust =0.5))+labs(title=\"User activeness\")\n",
    "\n"
   ]
  },
  {
   "cell_type": "markdown",
   "id": "8b8378f7",
   "metadata": {
    "papermill": {
     "duration": null,
     "end_time": null,
     "exception": null,
     "start_time": null,
     "status": "pending"
    },
    "tags": []
   },
   "source": [
    "Based on the pie chart: \n",
    "\n",
    "We can observe that 66.7% of users are categorize between active (2000-2999 calories per day) and very active( equal or more than 3000 calories per day). \n",
    "\n",
    "More data would be needed in order to analyse further according to user activeness. "
   ]
  },
  {
   "cell_type": "markdown",
   "id": "b33ab70f",
   "metadata": {
    "papermill": {
     "duration": null,
     "end_time": null,
     "exception": null,
     "start_time": null,
     "status": "pending"
    },
    "tags": []
   },
   "source": [
    "# **5.Act Phase **\n",
    "\n",
    "**Conclusion **\n",
    "\n",
    "In order for us to help Bellabeat's team to improve their marketing strategies, I would recommend to collect more data in details such as demographic data since we have a specific target customers - young women adult. The current dataset used a small sample sizes which might not be as accurate or could be highly biased. \n",
    "Moreover, if we manage to collect the latest data it would be easier to identify the current usage trend and we could discuss further on the marketing strategies. \n",
    "\n",
    "Based on the findings, \n",
    "\n",
    "How often users use smart device \n",
    "Findings= 50% of the users are using their device in between 21-31 days. \n",
    "We could promote the long last batteries of our device as the big advantage of using our tracker. However more analysis needed to be done on our own tracking data so we could determine what is the usage rate among customers. \n",
    "\n",
    "\n",
    "User activeness based on calories= \n",
    "Findings= 67% of users in the dataset consumed at least 2000 calories per day. \n",
    "We could improve our device by sending notification to promote active lifestyle. If we could create any programme that allow user to calculate their own BMR rate and how much calories they should burn to be in active lifestyle, it would be really useful especially for users who are in active lifestyle or starting diet plan. \n",
    "\n",
    "That's the end of my first project. \n",
    "\n",
    "Thank you! \n"
   ]
  }
 ],
 "metadata": {
  "kernelspec": {
   "display_name": "R",
   "language": "R",
   "name": "ir"
  },
  "language_info": {
   "codemirror_mode": "r",
   "file_extension": ".r",
   "mimetype": "text/x-r-source",
   "name": "R",
   "pygments_lexer": "r",
   "version": "4.0.5"
  },
  "papermill": {
   "default_parameters": {},
   "duration": 4.60447,
   "end_time": "2023-01-24T00:24:37.478436",
   "environment_variables": {},
   "exception": true,
   "input_path": "__notebook__.ipynb",
   "output_path": "__notebook__.ipynb",
   "parameters": {},
   "start_time": "2023-01-24T00:24:32.873966",
   "version": "2.4.0"
  }
 },
 "nbformat": 4,
 "nbformat_minor": 5
}
